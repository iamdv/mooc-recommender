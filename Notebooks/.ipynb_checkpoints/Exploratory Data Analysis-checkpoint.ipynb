{
 "cells": [
  {
   "cell_type": "code",
   "execution_count": 1,
   "metadata": {
    "slideshow": {
     "slide_type": "slide"
    }
   },
   "outputs": [],
   "source": [
    "import pandas as pd\n",
    "import numpy as np\n",
    "import matplotlib as mp\n",
    "\n",
    "# Importing required modules for EDA"
   ]
  },
  {
   "cell_type": "code",
   "execution_count": 2,
   "metadata": {
    "slideshow": {
     "slide_type": "skip"
    }
   },
   "outputs": [],
   "source": [
    "courses = pd.read_csv(\"../Data/courses.csv\")\n",
    "\n",
    "# Loading courses data from the CSV file"
   ]
  },
  {
   "cell_type": "code",
   "execution_count": 5,
   "metadata": {},
   "outputs": [
    {
     "name": "stdout",
     "output_type": "stream",
     "text": [
      "(8477, 21) \n",
      "\n",
      "Index(['Course Id', 'Course Name', 'Slug', 'Provider',\n",
      "       'Universities/Institutions', 'Parent Subject', 'Child Subject',\n",
      "       'Category', 'Url', 'Next Session Date', 'Length', 'Language',\n",
      "       'Video(Url)', 'Course Description', 'Credential Name', 'Created',\n",
      "       'Status', 'Rating', 'Number of Ratings', 'Certificate', 'Workload'],\n",
      "      dtype='object') \n",
      "\n",
      "<class 'pandas.core.frame.DataFrame'>\n",
      "RangeIndex: 8477 entries, 0 to 8476\n",
      "Data columns (total 21 columns):\n",
      "Course Id                    8477 non-null int64\n",
      "Course Name                  8477 non-null object\n",
      "Slug                         8477 non-null object\n",
      "Provider                     8477 non-null object\n",
      "Universities/Institutions    7720 non-null object\n",
      "Parent Subject               8477 non-null object\n",
      "Child Subject                7189 non-null object\n",
      "Category                     8477 non-null object\n",
      "Url                          8477 non-null object\n",
      "Next Session Date            8384 non-null object\n",
      "Length                       4116 non-null float64\n",
      "Language                     8477 non-null object\n",
      "Video(Url)                   3591 non-null object\n",
      "Course Description           8203 non-null object\n",
      "Credential Name              507 non-null object\n",
      "Created                      8000 non-null object\n",
      "Status                       8439 non-null object\n",
      "Rating                       8477 non-null float64\n",
      "Number of Ratings            8477 non-null int64\n",
      "Certificate                  5221 non-null float64\n",
      "Workload                     4801 non-null object\n",
      "dtypes: float64(3), int64(2), object(16)\n",
      "memory usage: 1.4+ MB\n",
      "None \n",
      "\n"
     ]
    }
   ],
   "source": [
    "print(courses.shape,\"\\n\")\n",
    "\n",
    "print(courses.columns, \"\\n\")\n",
    "\n",
    "print(courses.info(), \"\\n\")\n",
    "\n",
    "# Exploring data dimensionality, feature names, and feature types."
   ]
  },
  {
   "cell_type": "code",
   "execution_count": null,
   "metadata": {},
   "outputs": [],
   "source": []
  }
 ],
 "metadata": {
  "kernelspec": {
   "display_name": "Python 3",
   "language": "python",
   "name": "python3"
  },
  "language_info": {
   "codemirror_mode": {
    "name": "ipython",
    "version": 3
   },
   "file_extension": ".py",
   "mimetype": "text/x-python",
   "name": "python",
   "nbconvert_exporter": "python",
   "pygments_lexer": "ipython3",
   "version": "3.6.5"
  }
 },
 "nbformat": 4,
 "nbformat_minor": 2
}
